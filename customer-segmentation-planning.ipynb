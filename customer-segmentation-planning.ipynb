{
 "cells": [
  {
   "cell_type": "markdown",
   "id": "2a7f5494-c81f-4851-8a8d-0a1edc121572",
   "metadata": {},
   "source": [
    "# Customer Segmentation for Marketing Strategy Success"
   ]
  },
  {
   "cell_type": "markdown",
   "id": "c9fe510e-cd1c-4450-918b-c665f86dd6d6",
   "metadata": {},
   "source": [
    "## 1.0 Planning"
   ]
  },
  {
   "cell_type": "markdown",
   "id": "d6d4b89d-b3d6-4759-a662-5a6ae26d1734",
   "metadata": {},
   "source": [
    "### 1.1 Input"
   ]
  },
  {
   "cell_type": "markdown",
   "id": "4df8433b-684a-481a-b0de-8549e2dc9749",
   "metadata": {},
   "source": [
    "#### 1.1.1 Business problem"
   ]
  },
  {
   "cell_type": "markdown",
   "id": "bfaffce6-cf9c-4feb-870b-25ed622ace01",
   "metadata": {},
   "source": [
    "Produce a good customer segmentation for the marketing team. The idea is to support them in creating successful marketing campaigns."
   ]
  },
  {
   "cell_type": "markdown",
   "id": "04291295-7a34-4888-85fb-57cca4dbac27",
   "metadata": {},
   "source": [
    "#### 1.1.2 Business challanges"
   ]
  },
  {
   "cell_type": "markdown",
   "id": "7faff02d-546a-43b0-87f6-02580e07a474",
   "metadata": {},
   "source": [
    "* Create a customer segmentation based on clear selection criteria.\n",
    "* Make customer segmentation accessible to the operations team.\n",
    "* Teach the operations team how to use your solution.\n",
    "* Transfer knowledge to International Bank Data Scientists.\n",
    "* Recommend 2-3 business levers for each customer segment."
   ]
  },
  {
   "cell_type": "markdown",
   "id": "d3bd7543-0717-4f5a-9d3f-9a9e57b1ac1c",
   "metadata": {},
   "source": [
    "#### 1.1.3 Input data"
   ]
  },
  {
   "cell_type": "markdown",
   "id": "b85722b1-efd4-44a5-963e-ffb8805dbe70",
   "metadata": {},
   "source": [
    "The dataset [Credit Card Dataset for Clustering](https://www.kaggle.com/arjunbhasin2013/ccdata)"
   ]
  },
  {
   "cell_type": "markdown",
   "id": "a09ad95a-7f35-44ef-a237-377a846efdba",
   "metadata": {},
   "source": [
    "### 1.2 Output"
   ]
  },
  {
   "cell_type": "markdown",
   "id": "a8b50af7-1560-465b-a669-eca69353bdbe",
   "metadata": {},
   "source": [
    "List of all customers with a label or value attached to each client indicatiting what they represent."
   ]
  },
  {
   "cell_type": "markdown",
   "id": "6fa6230e-be23-48e2-8fcd-d015abf30e37",
   "metadata": {},
   "source": [
    "### 1.3 Tasks"
   ]
  },
  {
   "cell_type": "markdown",
   "id": "f25db86b-3883-4445-b4d1-6dbba0b74370",
   "metadata": {},
   "source": [
    "* Business understanding\n",
    "* Data understanding\n",
    "* Data preparation\n",
    "* Modeling\n",
    "* Evaluation\n",
    "* Deployment"
   ]
  }
 ],
 "metadata": {
  "kernelspec": {
   "display_name": "default:Python",
   "language": "python",
   "name": "conda-env-default-py"
  },
  "language_info": {
   "codemirror_mode": {
    "name": "ipython",
    "version": 3
   },
   "file_extension": ".py",
   "mimetype": "text/x-python",
   "name": "python",
   "nbconvert_exporter": "python",
   "pygments_lexer": "ipython3",
   "version": "3.9.7"
  }
 },
 "nbformat": 4,
 "nbformat_minor": 5
}
