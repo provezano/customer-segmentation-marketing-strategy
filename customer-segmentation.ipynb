{
 "cells": [
  {
   "cell_type": "markdown",
   "id": "2a7f5494-c81f-4851-8a8d-0a1edc121572",
   "metadata": {},
   "source": [
    "# Customer Segmentation for Marketing Strategy Success"
   ]
  },
  {
   "cell_type": "markdown",
   "id": "c9fe510e-cd1c-4450-918b-c665f86dd6d6",
   "metadata": {},
   "source": [
    "## 1.0 Libraries"
   ]
  },
  {
   "cell_type": "code",
   "execution_count": 27,
   "id": "f09ff251-f1b0-49b9-90b6-66ebc28b577a",
   "metadata": {},
   "outputs": [],
   "source": [
    "import pandas as pd\n",
    "\n",
    "from sklearn.cluster import KMeans\n",
    "from sklearn.metrics import silhouette_score\n",
    "from sklearn.metrics import davies_bouldin_score\n",
    "\n",
    "import matplotlib.pyplot as plt"
   ]
  },
  {
   "cell_type": "markdown",
   "id": "76a3df8d-cf0a-4ab1-97e9-bc6ae9b6a2d2",
   "metadata": {},
   "source": [
    "## 2.0 Data understanding"
   ]
  },
  {
   "cell_type": "markdown",
   "id": "ee4150f3-9b28-495a-9f0b-52f05d07fe12",
   "metadata": {},
   "source": [
    "### 2.1 Data dictionary"
   ]
  },
  {
   "cell_type": "markdown",
   "id": "5af35e11-4188-43c4-9dc8-aa6a679c15c2",
   "metadata": {},
   "source": [
    "*CUSTID* : Identification of Credit Card holder (Categorical) </br>\n",
    "*BALANCE* : Balance amount left in their account to make purchases</br>\n",
    "*BALANCEFREQUENCY* : How frequently the balance is updated, score between 0 and 1 (1 = frequently updated, 0 = not frequently updated) </br>\n",
    "*PURCHASES* : Amount of purchases made from account </br>\n",
    "*ONEOFFPURCHASES* : Maximum purchase amount done in one-go </br>\n",
    "*INSTALLMENTSPURCHASES* : Amount of purchase done in installment </br>\n",
    "*CASHADVANCE* : Cash in advance given by the user </br>\n",
    "*PURCHASESFREQUENCY* : How frequently the purchases are being made, score between 0 and 1 (1 = frequently purchased, 0 = not frequently purchased) </br>\n",
    "*ONEOFFPURCHASESFREQUENCY* : How frequently purchases are happening in one-go (1 = frequently purchased, 0 = not frequently purchased) </br>\n",
    "*PURCHASESINSTALLMENTSFREQUENCY* : How frequently purchases in installments are being done (1 = frequently done, 0 = not frequently done) </br>\n",
    "*CASHADVANCEFREQUENCY* : How frequently the cash in advance being paid </br>\n",
    "*CASHADVANCETRX* : Number of transactions made with \"Cash in Advanced\" </br>\n",
    "*PURCHASESTRX* : Numbe of purchase transactions made </br>\n",
    "*CREDITLIMIT* : Limit of credit Card for user </br>\n",
    "*PAYMENTS* : Amount of payment done by user </br>\n",
    "*MINIMUM_PAYMENTS* : Minimum amount of payments made by user </br>\n",
    "*PRCFULLPAYMENT* : Percent of full payment paid by user </br>\n",
    "*TENURE* : Tenure of credit card service for user </br>"
   ]
  },
  {
   "cell_type": "markdown",
   "id": "e16fcd75-f5f6-4c81-a3c2-d46b0c4cf653",
   "metadata": {
    "tags": []
   },
   "source": [
    "### 2.2 Data ingestion"
   ]
  },
  {
   "cell_type": "markdown",
   "id": "ff880d93-3ffa-491b-b967-55f84bc54774",
   "metadata": {},
   "source": [
    "* Load the dataset"
   ]
  },
  {
   "cell_type": "code",
   "execution_count": 2,
   "id": "59d1dd2b-9690-4624-b4a2-8f964cfa5f56",
   "metadata": {},
   "outputs": [],
   "source": [
    "df_raw = pd.read_csv('data/CC GENERAL.csv')"
   ]
  },
  {
   "cell_type": "markdown",
   "id": "c366f218-1239-443f-ae21-bfb0fd69f14e",
   "metadata": {},
   "source": [
    "* Normalize column names"
   ]
  },
  {
   "cell_type": "code",
   "execution_count": 3,
   "id": "4a3430f9-7910-41bc-af89-f2a6c95ad7fb",
   "metadata": {},
   "outputs": [],
   "source": [
    "df_raw.columns = df_raw.columns.str.lower().str.replace(' ', '_')"
   ]
  },
  {
   "cell_type": "markdown",
   "id": "2e91e1b9-2bf5-4f40-bf62-bdade9616e24",
   "metadata": {},
   "source": [
    "* Normalize text values"
   ]
  },
  {
   "cell_type": "code",
   "execution_count": 4,
   "id": "64bb50ef-5028-48eb-8fe1-847ea33ddfa7",
   "metadata": {},
   "outputs": [],
   "source": [
    "string_columns = list(df_raw.dtypes[df_raw.dtypes=='object'].index)\n",
    "\n",
    "for col in string_columns:\n",
    "    df_raw[col] = df_raw[col].str.lower().str.replace(' ', '_')"
   ]
  },
  {
   "cell_type": "markdown",
   "id": "bfc7423b-4008-4722-963e-1a777b620d2b",
   "metadata": {
    "tags": []
   },
   "source": [
    "### 2.2 Data description"
   ]
  },
  {
   "cell_type": "code",
   "execution_count": 5,
   "id": "4512c422-e32f-45c7-a62c-813bbff0e1c9",
   "metadata": {},
   "outputs": [],
   "source": [
    "df2 = df_raw.copy()"
   ]
  },
  {
   "cell_type": "markdown",
   "id": "8f396c70-7113-4721-a9e4-c286a933be85",
   "metadata": {
    "tags": []
   },
   "source": [
    "### 2.2.1 Data dimension"
   ]
  },
  {
   "cell_type": "code",
   "execution_count": 6,
   "id": "da307378-67e7-4c6a-ac01-9df16c94eede",
   "metadata": {},
   "outputs": [
    {
     "name": "stdout",
     "output_type": "stream",
     "text": [
      "This dataset has 8950 rows ans 18 columns.\n"
     ]
    }
   ],
   "source": [
    "print('This dataset has {} rows ans {} columns.'.format(*df2.shape))"
   ]
  },
  {
   "cell_type": "markdown",
   "id": "b1ebec89-3eb0-49f6-a152-b1e9135a004d",
   "metadata": {},
   "source": [
    "### 2.2.2 Check the column data types"
   ]
  },
  {
   "cell_type": "code",
   "execution_count": 7,
   "id": "f93461c5-7761-4646-9bd6-c5c2275aeae4",
   "metadata": {
    "tags": []
   },
   "outputs": [
    {
     "data": {
      "text/html": [
       "<div>\n",
       "<style scoped>\n",
       "    .dataframe tbody tr th:only-of-type {\n",
       "        vertical-align: middle;\n",
       "    }\n",
       "\n",
       "    .dataframe tbody tr th {\n",
       "        vertical-align: top;\n",
       "    }\n",
       "\n",
       "    .dataframe thead th {\n",
       "        text-align: right;\n",
       "    }\n",
       "</style>\n",
       "<table border=\"1\" class=\"dataframe\">\n",
       "  <thead>\n",
       "    <tr style=\"text-align: right;\">\n",
       "      <th></th>\n",
       "      <th>data type</th>\n",
       "    </tr>\n",
       "  </thead>\n",
       "  <tbody>\n",
       "    <tr>\n",
       "      <th>cust_id</th>\n",
       "      <td>object</td>\n",
       "    </tr>\n",
       "    <tr>\n",
       "      <th>balance</th>\n",
       "      <td>float64</td>\n",
       "    </tr>\n",
       "    <tr>\n",
       "      <th>balance_frequency</th>\n",
       "      <td>float64</td>\n",
       "    </tr>\n",
       "    <tr>\n",
       "      <th>purchases</th>\n",
       "      <td>float64</td>\n",
       "    </tr>\n",
       "    <tr>\n",
       "      <th>oneoff_purchases</th>\n",
       "      <td>float64</td>\n",
       "    </tr>\n",
       "    <tr>\n",
       "      <th>installments_purchases</th>\n",
       "      <td>float64</td>\n",
       "    </tr>\n",
       "    <tr>\n",
       "      <th>cash_advance</th>\n",
       "      <td>float64</td>\n",
       "    </tr>\n",
       "    <tr>\n",
       "      <th>purchases_frequency</th>\n",
       "      <td>float64</td>\n",
       "    </tr>\n",
       "    <tr>\n",
       "      <th>oneoff_purchases_frequency</th>\n",
       "      <td>float64</td>\n",
       "    </tr>\n",
       "    <tr>\n",
       "      <th>purchases_installments_frequency</th>\n",
       "      <td>float64</td>\n",
       "    </tr>\n",
       "    <tr>\n",
       "      <th>cash_advance_frequency</th>\n",
       "      <td>float64</td>\n",
       "    </tr>\n",
       "    <tr>\n",
       "      <th>cash_advance_trx</th>\n",
       "      <td>int64</td>\n",
       "    </tr>\n",
       "    <tr>\n",
       "      <th>purchases_trx</th>\n",
       "      <td>int64</td>\n",
       "    </tr>\n",
       "    <tr>\n",
       "      <th>credit_limit</th>\n",
       "      <td>float64</td>\n",
       "    </tr>\n",
       "    <tr>\n",
       "      <th>payments</th>\n",
       "      <td>float64</td>\n",
       "    </tr>\n",
       "    <tr>\n",
       "      <th>minimum_payments</th>\n",
       "      <td>float64</td>\n",
       "    </tr>\n",
       "    <tr>\n",
       "      <th>prc_full_payment</th>\n",
       "      <td>float64</td>\n",
       "    </tr>\n",
       "    <tr>\n",
       "      <th>tenure</th>\n",
       "      <td>int64</td>\n",
       "    </tr>\n",
       "  </tbody>\n",
       "</table>\n",
       "</div>"
      ],
      "text/plain": [
       "                                 data type\n",
       "cust_id                             object\n",
       "balance                            float64\n",
       "balance_frequency                  float64\n",
       "purchases                          float64\n",
       "oneoff_purchases                   float64\n",
       "installments_purchases             float64\n",
       "cash_advance                       float64\n",
       "purchases_frequency                float64\n",
       "oneoff_purchases_frequency         float64\n",
       "purchases_installments_frequency   float64\n",
       "cash_advance_frequency             float64\n",
       "cash_advance_trx                     int64\n",
       "purchases_trx                        int64\n",
       "credit_limit                       float64\n",
       "payments                           float64\n",
       "minimum_payments                   float64\n",
       "prc_full_payment                   float64\n",
       "tenure                               int64"
      ]
     },
     "execution_count": 7,
     "metadata": {},
     "output_type": "execute_result"
    }
   ],
   "source": [
    "pd.DataFrame(df2.dtypes, columns=['data type'])"
   ]
  },
  {
   "cell_type": "markdown",
   "id": "26668ee5-e3c0-4725-a714-b2c507be91be",
   "metadata": {},
   "source": [
    "### 2.2.3 Descriptive statistics"
   ]
  },
  {
   "cell_type": "markdown",
   "id": "dc4b3ff4-1563-41f8-8a86-58b4956e3d4c",
   "metadata": {},
   "source": [
    "#### 2.2.3.4 Categorical features"
   ]
  },
  {
   "cell_type": "markdown",
   "id": "720b9ae5-d716-4bb3-a304-5c1577d2482b",
   "metadata": {},
   "source": [
    "* cust_id"
   ]
  },
  {
   "cell_type": "code",
   "execution_count": 8,
   "id": "1fc561a2-14d9-4835-8ce3-cb9f9326252e",
   "metadata": {},
   "outputs": [
    {
     "data": {
      "text/html": [
       "<div>\n",
       "<style scoped>\n",
       "    .dataframe tbody tr th:only-of-type {\n",
       "        vertical-align: middle;\n",
       "    }\n",
       "\n",
       "    .dataframe tbody tr th {\n",
       "        vertical-align: top;\n",
       "    }\n",
       "\n",
       "    .dataframe thead th {\n",
       "        text-align: right;\n",
       "    }\n",
       "</style>\n",
       "<table border=\"1\" class=\"dataframe\">\n",
       "  <thead>\n",
       "    <tr style=\"text-align: right;\">\n",
       "      <th></th>\n",
       "      <th>count</th>\n",
       "      <th>unique</th>\n",
       "      <th>top</th>\n",
       "      <th>freq</th>\n",
       "      <th># of duplicated values</th>\n",
       "    </tr>\n",
       "  </thead>\n",
       "  <tbody>\n",
       "    <tr>\n",
       "      <th>cust_id</th>\n",
       "      <td>8950</td>\n",
       "      <td>8950</td>\n",
       "      <td>c10001</td>\n",
       "      <td>1</td>\n",
       "      <td>0</td>\n",
       "    </tr>\n",
       "  </tbody>\n",
       "</table>\n",
       "</div>"
      ],
      "text/plain": [
       "        count unique     top freq # of duplicated values\n",
       "cust_id  8950   8950  c10001    1                      0"
      ]
     },
     "execution_count": 8,
     "metadata": {},
     "output_type": "execute_result"
    }
   ],
   "source": [
    "stats = df2.describe(include='object')\n",
    "stats.loc['# of duplicated values'] = [sum(df2.duplicated(subset=col)) for col in stats.columns]\n",
    "stats.T"
   ]
  },
  {
   "cell_type": "markdown",
   "id": "2bd25a5a-aaea-4a3d-9c20-f754ad1b0bbb",
   "metadata": {},
   "source": [
    "* character from cust_id"
   ]
  },
  {
   "cell_type": "code",
   "execution_count": 9,
   "id": "05691269-2f5a-4d9d-bf2d-22e7d067d68a",
   "metadata": {},
   "outputs": [],
   "source": [
    "df2['cust_id_letter'] = df2['cust_id'].str.extract(r'([a-z]+)')\n",
    "df2['cust_id_numbers'] = df2['cust_id'].str.extract(r'(\\d+)').astype(int)"
   ]
  },
  {
   "cell_type": "code",
   "execution_count": 10,
   "id": "3f58768f-7bdb-4524-9887-6e3791b01f8b",
   "metadata": {},
   "outputs": [
    {
     "data": {
      "text/plain": [
       "c    8950\n",
       "Name: cust_id_letter, dtype: int64"
      ]
     },
     "execution_count": 10,
     "metadata": {},
     "output_type": "execute_result"
    }
   ],
   "source": [
    "df2['cust_id_letter'].value_counts()"
   ]
  },
  {
   "cell_type": "markdown",
   "id": "849d2db9-8903-4624-9750-266a2a244f0a",
   "metadata": {},
   "source": [
    "#### 2.2.3.5 Numerical features"
   ]
  },
  {
   "cell_type": "code",
   "execution_count": 11,
   "id": "303a6456-8ca5-4801-84a0-10cdb2c2ab6f",
   "metadata": {},
   "outputs": [
    {
     "data": {
      "text/html": [
       "<div>\n",
       "<style scoped>\n",
       "    .dataframe tbody tr th:only-of-type {\n",
       "        vertical-align: middle;\n",
       "    }\n",
       "\n",
       "    .dataframe tbody tr th {\n",
       "        vertical-align: top;\n",
       "    }\n",
       "\n",
       "    .dataframe thead th {\n",
       "        text-align: right;\n",
       "    }\n",
       "</style>\n",
       "<table border=\"1\" class=\"dataframe\">\n",
       "  <thead>\n",
       "    <tr style=\"text-align: right;\">\n",
       "      <th></th>\n",
       "      <th>count</th>\n",
       "      <th>mean</th>\n",
       "      <th>std</th>\n",
       "      <th>min</th>\n",
       "      <th>5%</th>\n",
       "      <th>25%</th>\n",
       "      <th>50%</th>\n",
       "      <th>75%</th>\n",
       "      <th>95%</th>\n",
       "      <th>max</th>\n",
       "      <th>skewness</th>\n",
       "      <th>kurtosis</th>\n",
       "      <th>unique</th>\n",
       "      <th># of nan values</th>\n",
       "    </tr>\n",
       "  </thead>\n",
       "  <tbody>\n",
       "    <tr>\n",
       "      <th>minimum_payments</th>\n",
       "      <td>8637.0</td>\n",
       "      <td>864.21</td>\n",
       "      <td>2372.45</td>\n",
       "      <td>0.02</td>\n",
       "      <td>73.28</td>\n",
       "      <td>169.12</td>\n",
       "      <td>312.34</td>\n",
       "      <td>825.49</td>\n",
       "      <td>2766.56</td>\n",
       "      <td>76406.21</td>\n",
       "      <td>13.62</td>\n",
       "      <td>283.99</td>\n",
       "      <td>8637.0</td>\n",
       "      <td>313.0</td>\n",
       "    </tr>\n",
       "    <tr>\n",
       "      <th>payments</th>\n",
       "      <td>8950.0</td>\n",
       "      <td>1733.14</td>\n",
       "      <td>2895.06</td>\n",
       "      <td>0.00</td>\n",
       "      <td>89.99</td>\n",
       "      <td>383.28</td>\n",
       "      <td>856.90</td>\n",
       "      <td>1901.13</td>\n",
       "      <td>6082.09</td>\n",
       "      <td>50721.48</td>\n",
       "      <td>5.91</td>\n",
       "      <td>54.77</td>\n",
       "      <td>8711.0</td>\n",
       "      <td>0.0</td>\n",
       "    </tr>\n",
       "    <tr>\n",
       "      <th>purchases</th>\n",
       "      <td>8950.0</td>\n",
       "      <td>1003.20</td>\n",
       "      <td>2136.63</td>\n",
       "      <td>0.00</td>\n",
       "      <td>0.00</td>\n",
       "      <td>39.64</td>\n",
       "      <td>361.28</td>\n",
       "      <td>1110.13</td>\n",
       "      <td>3998.62</td>\n",
       "      <td>49039.57</td>\n",
       "      <td>8.14</td>\n",
       "      <td>111.39</td>\n",
       "      <td>6203.0</td>\n",
       "      <td>0.0</td>\n",
       "    </tr>\n",
       "    <tr>\n",
       "      <th>cash_advance</th>\n",
       "      <td>8950.0</td>\n",
       "      <td>978.87</td>\n",
       "      <td>2097.16</td>\n",
       "      <td>0.00</td>\n",
       "      <td>0.00</td>\n",
       "      <td>0.00</td>\n",
       "      <td>0.00</td>\n",
       "      <td>1113.82</td>\n",
       "      <td>4647.17</td>\n",
       "      <td>47137.21</td>\n",
       "      <td>5.17</td>\n",
       "      <td>52.90</td>\n",
       "      <td>4323.0</td>\n",
       "      <td>0.0</td>\n",
       "    </tr>\n",
       "    <tr>\n",
       "      <th>oneoff_purchases</th>\n",
       "      <td>8950.0</td>\n",
       "      <td>592.44</td>\n",
       "      <td>1659.89</td>\n",
       "      <td>0.00</td>\n",
       "      <td>0.00</td>\n",
       "      <td>0.00</td>\n",
       "      <td>38.00</td>\n",
       "      <td>577.40</td>\n",
       "      <td>2671.09</td>\n",
       "      <td>40761.25</td>\n",
       "      <td>10.05</td>\n",
       "      <td>164.19</td>\n",
       "      <td>4014.0</td>\n",
       "      <td>0.0</td>\n",
       "    </tr>\n",
       "    <tr>\n",
       "      <th>credit_limit</th>\n",
       "      <td>8949.0</td>\n",
       "      <td>4494.45</td>\n",
       "      <td>3638.82</td>\n",
       "      <td>50.00</td>\n",
       "      <td>1000.00</td>\n",
       "      <td>1600.00</td>\n",
       "      <td>3000.00</td>\n",
       "      <td>6500.00</td>\n",
       "      <td>12000.00</td>\n",
       "      <td>30000.00</td>\n",
       "      <td>1.52</td>\n",
       "      <td>2.84</td>\n",
       "      <td>206.0</td>\n",
       "      <td>1.0</td>\n",
       "    </tr>\n",
       "    <tr>\n",
       "      <th>installments_purchases</th>\n",
       "      <td>8950.0</td>\n",
       "      <td>411.07</td>\n",
       "      <td>904.34</td>\n",
       "      <td>0.00</td>\n",
       "      <td>0.00</td>\n",
       "      <td>0.00</td>\n",
       "      <td>89.00</td>\n",
       "      <td>468.64</td>\n",
       "      <td>1750.09</td>\n",
       "      <td>22500.00</td>\n",
       "      <td>7.30</td>\n",
       "      <td>96.58</td>\n",
       "      <td>4452.0</td>\n",
       "      <td>0.0</td>\n",
       "    </tr>\n",
       "    <tr>\n",
       "      <th>cust_id_numbers</th>\n",
       "      <td>8950.0</td>\n",
       "      <td>14600.04</td>\n",
       "      <td>2651.31</td>\n",
       "      <td>10001.00</td>\n",
       "      <td>10464.35</td>\n",
       "      <td>12307.25</td>\n",
       "      <td>14598.50</td>\n",
       "      <td>16899.75</td>\n",
       "      <td>18732.55</td>\n",
       "      <td>19190.00</td>\n",
       "      <td>-0.00</td>\n",
       "      <td>-1.20</td>\n",
       "      <td>8950.0</td>\n",
       "      <td>0.0</td>\n",
       "    </tr>\n",
       "    <tr>\n",
       "      <th>balance</th>\n",
       "      <td>8950.0</td>\n",
       "      <td>1564.47</td>\n",
       "      <td>2081.53</td>\n",
       "      <td>0.00</td>\n",
       "      <td>8.81</td>\n",
       "      <td>128.28</td>\n",
       "      <td>873.39</td>\n",
       "      <td>2054.14</td>\n",
       "      <td>5909.11</td>\n",
       "      <td>19043.14</td>\n",
       "      <td>2.39</td>\n",
       "      <td>7.67</td>\n",
       "      <td>8871.0</td>\n",
       "      <td>0.0</td>\n",
       "    </tr>\n",
       "    <tr>\n",
       "      <th>purchases_trx</th>\n",
       "      <td>8950.0</td>\n",
       "      <td>14.71</td>\n",
       "      <td>24.86</td>\n",
       "      <td>0.00</td>\n",
       "      <td>0.00</td>\n",
       "      <td>1.00</td>\n",
       "      <td>7.00</td>\n",
       "      <td>17.00</td>\n",
       "      <td>57.00</td>\n",
       "      <td>358.00</td>\n",
       "      <td>4.63</td>\n",
       "      <td>34.79</td>\n",
       "      <td>173.0</td>\n",
       "      <td>0.0</td>\n",
       "    </tr>\n",
       "    <tr>\n",
       "      <th>cash_advance_trx</th>\n",
       "      <td>8950.0</td>\n",
       "      <td>3.25</td>\n",
       "      <td>6.82</td>\n",
       "      <td>0.00</td>\n",
       "      <td>0.00</td>\n",
       "      <td>0.00</td>\n",
       "      <td>0.00</td>\n",
       "      <td>4.00</td>\n",
       "      <td>15.00</td>\n",
       "      <td>123.00</td>\n",
       "      <td>5.72</td>\n",
       "      <td>61.65</td>\n",
       "      <td>65.0</td>\n",
       "      <td>0.0</td>\n",
       "    </tr>\n",
       "    <tr>\n",
       "      <th>tenure</th>\n",
       "      <td>8950.0</td>\n",
       "      <td>11.52</td>\n",
       "      <td>1.34</td>\n",
       "      <td>6.00</td>\n",
       "      <td>8.00</td>\n",
       "      <td>12.00</td>\n",
       "      <td>12.00</td>\n",
       "      <td>12.00</td>\n",
       "      <td>12.00</td>\n",
       "      <td>12.00</td>\n",
       "      <td>-2.94</td>\n",
       "      <td>7.69</td>\n",
       "      <td>7.0</td>\n",
       "      <td>0.0</td>\n",
       "    </tr>\n",
       "    <tr>\n",
       "      <th>cash_advance_frequency</th>\n",
       "      <td>8950.0</td>\n",
       "      <td>0.14</td>\n",
       "      <td>0.20</td>\n",
       "      <td>0.00</td>\n",
       "      <td>0.00</td>\n",
       "      <td>0.00</td>\n",
       "      <td>0.00</td>\n",
       "      <td>0.22</td>\n",
       "      <td>0.58</td>\n",
       "      <td>1.50</td>\n",
       "      <td>1.83</td>\n",
       "      <td>3.33</td>\n",
       "      <td>54.0</td>\n",
       "      <td>0.0</td>\n",
       "    </tr>\n",
       "    <tr>\n",
       "      <th>balance_frequency</th>\n",
       "      <td>8950.0</td>\n",
       "      <td>0.88</td>\n",
       "      <td>0.24</td>\n",
       "      <td>0.00</td>\n",
       "      <td>0.27</td>\n",
       "      <td>0.89</td>\n",
       "      <td>1.00</td>\n",
       "      <td>1.00</td>\n",
       "      <td>1.00</td>\n",
       "      <td>1.00</td>\n",
       "      <td>-2.02</td>\n",
       "      <td>3.09</td>\n",
       "      <td>43.0</td>\n",
       "      <td>0.0</td>\n",
       "    </tr>\n",
       "    <tr>\n",
       "      <th>purchases_installments_frequency</th>\n",
       "      <td>8950.0</td>\n",
       "      <td>0.36</td>\n",
       "      <td>0.40</td>\n",
       "      <td>0.00</td>\n",
       "      <td>0.00</td>\n",
       "      <td>0.00</td>\n",
       "      <td>0.17</td>\n",
       "      <td>0.75</td>\n",
       "      <td>1.00</td>\n",
       "      <td>1.00</td>\n",
       "      <td>0.51</td>\n",
       "      <td>-1.40</td>\n",
       "      <td>47.0</td>\n",
       "      <td>0.0</td>\n",
       "    </tr>\n",
       "    <tr>\n",
       "      <th>oneoff_purchases_frequency</th>\n",
       "      <td>8950.0</td>\n",
       "      <td>0.20</td>\n",
       "      <td>0.30</td>\n",
       "      <td>0.00</td>\n",
       "      <td>0.00</td>\n",
       "      <td>0.00</td>\n",
       "      <td>0.08</td>\n",
       "      <td>0.30</td>\n",
       "      <td>1.00</td>\n",
       "      <td>1.00</td>\n",
       "      <td>1.54</td>\n",
       "      <td>1.16</td>\n",
       "      <td>47.0</td>\n",
       "      <td>0.0</td>\n",
       "    </tr>\n",
       "    <tr>\n",
       "      <th>purchases_frequency</th>\n",
       "      <td>8950.0</td>\n",
       "      <td>0.49</td>\n",
       "      <td>0.40</td>\n",
       "      <td>0.00</td>\n",
       "      <td>0.00</td>\n",
       "      <td>0.08</td>\n",
       "      <td>0.50</td>\n",
       "      <td>0.92</td>\n",
       "      <td>1.00</td>\n",
       "      <td>1.00</td>\n",
       "      <td>0.06</td>\n",
       "      <td>-1.64</td>\n",
       "      <td>47.0</td>\n",
       "      <td>0.0</td>\n",
       "    </tr>\n",
       "    <tr>\n",
       "      <th>prc_full_payment</th>\n",
       "      <td>8950.0</td>\n",
       "      <td>0.15</td>\n",
       "      <td>0.29</td>\n",
       "      <td>0.00</td>\n",
       "      <td>0.00</td>\n",
       "      <td>0.00</td>\n",
       "      <td>0.00</td>\n",
       "      <td>0.14</td>\n",
       "      <td>1.00</td>\n",
       "      <td>1.00</td>\n",
       "      <td>1.94</td>\n",
       "      <td>2.43</td>\n",
       "      <td>47.0</td>\n",
       "      <td>0.0</td>\n",
       "    </tr>\n",
       "  </tbody>\n",
       "</table>\n",
       "</div>"
      ],
      "text/plain": [
       "                                   count      mean      std       min  \\\n",
       "minimum_payments                  8637.0    864.21  2372.45      0.02   \n",
       "payments                          8950.0   1733.14  2895.06      0.00   \n",
       "purchases                         8950.0   1003.20  2136.63      0.00   \n",
       "cash_advance                      8950.0    978.87  2097.16      0.00   \n",
       "oneoff_purchases                  8950.0    592.44  1659.89      0.00   \n",
       "credit_limit                      8949.0   4494.45  3638.82     50.00   \n",
       "installments_purchases            8950.0    411.07   904.34      0.00   \n",
       "cust_id_numbers                   8950.0  14600.04  2651.31  10001.00   \n",
       "balance                           8950.0   1564.47  2081.53      0.00   \n",
       "purchases_trx                     8950.0     14.71    24.86      0.00   \n",
       "cash_advance_trx                  8950.0      3.25     6.82      0.00   \n",
       "tenure                            8950.0     11.52     1.34      6.00   \n",
       "cash_advance_frequency            8950.0      0.14     0.20      0.00   \n",
       "balance_frequency                 8950.0      0.88     0.24      0.00   \n",
       "purchases_installments_frequency  8950.0      0.36     0.40      0.00   \n",
       "oneoff_purchases_frequency        8950.0      0.20     0.30      0.00   \n",
       "purchases_frequency               8950.0      0.49     0.40      0.00   \n",
       "prc_full_payment                  8950.0      0.15     0.29      0.00   \n",
       "\n",
       "                                        5%       25%       50%       75%  \\\n",
       "minimum_payments                     73.28    169.12    312.34    825.49   \n",
       "payments                             89.99    383.28    856.90   1901.13   \n",
       "purchases                             0.00     39.64    361.28   1110.13   \n",
       "cash_advance                          0.00      0.00      0.00   1113.82   \n",
       "oneoff_purchases                      0.00      0.00     38.00    577.40   \n",
       "credit_limit                       1000.00   1600.00   3000.00   6500.00   \n",
       "installments_purchases                0.00      0.00     89.00    468.64   \n",
       "cust_id_numbers                   10464.35  12307.25  14598.50  16899.75   \n",
       "balance                               8.81    128.28    873.39   2054.14   \n",
       "purchases_trx                         0.00      1.00      7.00     17.00   \n",
       "cash_advance_trx                      0.00      0.00      0.00      4.00   \n",
       "tenure                                8.00     12.00     12.00     12.00   \n",
       "cash_advance_frequency                0.00      0.00      0.00      0.22   \n",
       "balance_frequency                     0.27      0.89      1.00      1.00   \n",
       "purchases_installments_frequency      0.00      0.00      0.17      0.75   \n",
       "oneoff_purchases_frequency            0.00      0.00      0.08      0.30   \n",
       "purchases_frequency                   0.00      0.08      0.50      0.92   \n",
       "prc_full_payment                      0.00      0.00      0.00      0.14   \n",
       "\n",
       "                                       95%       max  skewness  kurtosis  \\\n",
       "minimum_payments                   2766.56  76406.21     13.62    283.99   \n",
       "payments                           6082.09  50721.48      5.91     54.77   \n",
       "purchases                          3998.62  49039.57      8.14    111.39   \n",
       "cash_advance                       4647.17  47137.21      5.17     52.90   \n",
       "oneoff_purchases                   2671.09  40761.25     10.05    164.19   \n",
       "credit_limit                      12000.00  30000.00      1.52      2.84   \n",
       "installments_purchases             1750.09  22500.00      7.30     96.58   \n",
       "cust_id_numbers                   18732.55  19190.00     -0.00     -1.20   \n",
       "balance                            5909.11  19043.14      2.39      7.67   \n",
       "purchases_trx                        57.00    358.00      4.63     34.79   \n",
       "cash_advance_trx                     15.00    123.00      5.72     61.65   \n",
       "tenure                               12.00     12.00     -2.94      7.69   \n",
       "cash_advance_frequency                0.58      1.50      1.83      3.33   \n",
       "balance_frequency                     1.00      1.00     -2.02      3.09   \n",
       "purchases_installments_frequency      1.00      1.00      0.51     -1.40   \n",
       "oneoff_purchases_frequency            1.00      1.00      1.54      1.16   \n",
       "purchases_frequency                   1.00      1.00      0.06     -1.64   \n",
       "prc_full_payment                      1.00      1.00      1.94      2.43   \n",
       "\n",
       "                                  unique  # of nan values  \n",
       "minimum_payments                  8637.0            313.0  \n",
       "payments                          8711.0              0.0  \n",
       "purchases                         6203.0              0.0  \n",
       "cash_advance                      4323.0              0.0  \n",
       "oneoff_purchases                  4014.0              0.0  \n",
       "credit_limit                       206.0              1.0  \n",
       "installments_purchases            4452.0              0.0  \n",
       "cust_id_numbers                   8950.0              0.0  \n",
       "balance                           8871.0              0.0  \n",
       "purchases_trx                      173.0              0.0  \n",
       "cash_advance_trx                    65.0              0.0  \n",
       "tenure                               7.0              0.0  \n",
       "cash_advance_frequency              54.0              0.0  \n",
       "balance_frequency                   43.0              0.0  \n",
       "purchases_installments_frequency    47.0              0.0  \n",
       "oneoff_purchases_frequency          47.0              0.0  \n",
       "purchases_frequency                 47.0              0.0  \n",
       "prc_full_payment                    47.0              0.0  "
      ]
     },
     "execution_count": 11,
     "metadata": {},
     "output_type": "execute_result"
    }
   ],
   "source": [
    "stats = df2.describe(percentiles=[0.05, 0.25, 0.50, 0.75, 0.95])\n",
    "\n",
    "stats.loc['skewness'] = df2.skew(numeric_only=True).tolist()\n",
    "stats.loc['kurtosis'] = df2.kurtosis(numeric_only=True).tolist()\n",
    "stats.loc['unique'] = [len(df2[col].unique()) for col in stats.columns]\n",
    "stats.loc['# of nan values'] = df2.isna().sum()#.tolist()\n",
    "stats.round(decimals=2).T.sort_values(by='max', ascending=False)"
   ]
  },
  {
   "cell_type": "code",
   "execution_count": 41,
   "id": "b2ccfa29-f527-443f-bc4c-53e64ff955e5",
   "metadata": {},
   "outputs": [
    {
     "data": {
      "text/plain": [
       "227"
      ]
     },
     "execution_count": 41,
     "metadata": {},
     "output_type": "execute_result"
    }
   ],
   "source": [
    "sum(df2['balance']>df2['credit_limit'])"
   ]
  },
  {
   "cell_type": "code",
   "execution_count": 45,
   "id": "ec0c7fe9-c207-440f-a6c5-31726780dd65",
   "metadata": {},
   "outputs": [
    {
     "data": {
      "text/plain": [
       "153.19239961674"
      ]
     },
     "execution_count": 45,
     "metadata": {},
     "output_type": "execute_result"
    }
   ],
   "source": [
    "cond = df2['balance']>df2['credit_limit']\n",
    "sum(df2[cond]['balance']-df2[cond]['credit_limit'])/df2[cond].shape[0]"
   ]
  },
  {
   "cell_type": "markdown",
   "id": "73665ce7-4832-45ea-90f6-bc6f7aec0591",
   "metadata": {},
   "source": [
    "### 2.3 Data exploration"
   ]
  },
  {
   "cell_type": "markdown",
   "id": "f440d989-bec9-4029-bce1-82bb33288cc6",
   "metadata": {},
   "source": [
    "## 3.0 Data Preparation"
   ]
  },
  {
   "cell_type": "code",
   "execution_count": 12,
   "id": "084eb4f3-6452-4cf3-9afe-f04124a9522a",
   "metadata": {},
   "outputs": [],
   "source": [
    "df3 = df2.copy()"
   ]
  },
  {
   "cell_type": "markdown",
   "id": "be87ac9d-804e-48b3-a488-d18f02b0947b",
   "metadata": {},
   "source": [
    "### 3.1 Dealing with missing values"
   ]
  },
  {
   "cell_type": "code",
   "execution_count": 13,
   "id": "091225e4-1923-44d3-bef1-f520d71b7753",
   "metadata": {},
   "outputs": [],
   "source": [
    "df3 = df3.dropna()"
   ]
  },
  {
   "cell_type": "code",
   "execution_count": 15,
   "id": "6fd97455-d6fb-4f9e-813c-e3866da14c5d",
   "metadata": {},
   "outputs": [
    {
     "data": {
      "text/plain": [
       "0"
      ]
     },
     "execution_count": 15,
     "metadata": {},
     "output_type": "execute_result"
    }
   ],
   "source": [
    "sum(df3.isna().sum())"
   ]
  },
  {
   "cell_type": "code",
   "execution_count": 16,
   "id": "753ff9f2-9e9e-435a-987c-de6381f14d81",
   "metadata": {},
   "outputs": [
    {
     "data": {
      "text/plain": [
       "Index(['cust_id', 'balance', 'balance_frequency', 'purchases',\n",
       "       'oneoff_purchases', 'installments_purchases', 'cash_advance',\n",
       "       'purchases_frequency', 'oneoff_purchases_frequency',\n",
       "       'purchases_installments_frequency', 'cash_advance_frequency',\n",
       "       'cash_advance_trx', 'purchases_trx', 'credit_limit', 'payments',\n",
       "       'minimum_payments', 'prc_full_payment', 'tenure', 'cust_id_letter',\n",
       "       'cust_id_numbers'],\n",
       "      dtype='object')"
      ]
     },
     "execution_count": 16,
     "metadata": {},
     "output_type": "execute_result"
    }
   ],
   "source": [
    "df3.columns"
   ]
  },
  {
   "cell_type": "markdown",
   "id": "be62bba2-1ada-46d6-a364-3ec8aa1338ec",
   "metadata": {},
   "source": [
    "### 3. Feature selection"
   ]
  },
  {
   "cell_type": "code",
   "execution_count": 18,
   "id": "ec7f5442-96ef-411e-b82e-91a70efcab52",
   "metadata": {},
   "outputs": [],
   "source": [
    "cols_drop = ['cust_id', 'cust_id_numbers', 'cust_id_letter']\n",
    "X = df3.drop(columns=cols_drop)"
   ]
  },
  {
   "cell_type": "markdown",
   "id": "4f22f4e7-f00f-4cc2-a4c0-10ac616a1a65",
   "metadata": {
    "tags": []
   },
   "source": [
    "## 4.0 Modeling"
   ]
  },
  {
   "cell_type": "markdown",
   "id": "92e4d31b-4a3a-4a4a-bfb9-86620cd80e69",
   "metadata": {},
   "source": [
    "### 4.1 $k$-means"
   ]
  },
  {
   "cell_type": "code",
   "execution_count": 36,
   "id": "65a13f86-e1ed-4d5c-9af4-225581391883",
   "metadata": {
    "tags": []
   },
   "outputs": [
    {
     "name": "stdout",
     "output_type": "stream",
     "text": [
      "CPU times: user 39.5 s, sys: 15.6 s, total: 55.1 s\n",
      "Wall time: 18.8 s\n"
     ]
    }
   ],
   "source": [
    "%%time\n",
    "\n",
    "clusters = range(2, 10, 1)\n",
    "\n",
    "silhouette_list = []\n",
    "db_index_list = []\n",
    "\n",
    "for k in clusters:\n",
    "    kmeans_model = KMeans(n_clusters=k)\n",
    "    kmeans_model.fit(X)\n",
    "    labels = kmeans_model.predict(X)\n",
    "    \n",
    "    sil = silhouette_score(X, labels)\n",
    "    dbs = davies_bouldin_score(X, labels)\n",
    "    \n",
    "    silhouette_list.append(sil)\n",
    "    db_index_list.append(dbs)"
   ]
  },
  {
   "cell_type": "code",
   "execution_count": 40,
   "id": "147cbdb8-48c4-43eb-a84f-71cc9b3caf14",
   "metadata": {},
   "outputs": [
    {
     "data": {
      "image/png": "[encoded data removed]",
      "text/plain": [
       "<Figure size 1152x432 with 2 Axes>"
      ]
     },
     "metadata": {
      "needs_background": "light"
     },
     "output_type": "display_data"
    }
   ],
   "source": [
    "fig, ax = plt.subplots(1, 2, figsize=(16,6))\n",
    "\n",
    "ax[0].plot(clusters, silhouette_list, linestyle='--', marker='o', color='b')\n",
    "ax[1].plot(clusters, db_index_list, linestyle='--', marker='o', color='b')\n",
    "\n",
    "ax[0].set_xlabel('k')\n",
    "ax[0].set_ylabel('Silhouete score')\n",
    "\n",
    "ax[1].set_xlabel('k')\n",
    "ax[1].set_ylabel('DB-Index score')\n",
    "\n",
    "plt.show()"
   ]
  },
  {
   "cell_type": "markdown",
   "id": "69ff245f-e99c-40b9-a3eb-e64041555d3a",
   "metadata": {},
   "source": [
    "## 5.0 Evaluation"
   ]
  },
  {
   "cell_type": "markdown",
   "id": "3384c066-f58a-44d0-a23b-320e1cb545c8",
   "metadata": {},
   "source": [
    "## 6.0 Deployment"
   ]
  },
  {
   "cell_type": "code",
   "execution_count": null,
   "id": "1f6618fb-d4b0-4e42-8a21-c6ea9a816cda",
   "metadata": {},
   "outputs": [],
   "source": []
  }
 ],
 "metadata": {
  "kernelspec": {
   "display_name": "default:Python",
   "language": "python",
   "name": "conda-env-default-py"
  },
  "language_info": {
   "codemirror_mode": {
    "name": "ipython",
    "version": 3
   },
   "file_extension": ".py",
   "mimetype": "text/x-python",
   "name": "python",
   "nbconvert_exporter": "python",
   "pygments_lexer": "ipython3",
   "version": "3.9.7"
  }
 },
 "nbformat": 4,
 "nbformat_minor": 5
}
